{
 "cells": [
  {
   "cell_type": "code",
   "execution_count": 1,
   "id": "fd62f5af-bf96-437d-b979-01d4940e6143",
   "metadata": {},
   "outputs": [],
   "source": [
    "import pickle"
   ]
  },
  {
   "cell_type": "code",
   "execution_count": 2,
   "id": "aff7377e-e625-4f3e-a172-53d625e0b410",
   "metadata": {},
   "outputs": [],
   "source": [
    "# Next step is to load the saved model.\n",
    "loaded_model=pickle.load(open(\"finalized_model_XGBoost.sav\",'rb'))\n",
    "#Here we have to check with the user input in real time.\n",
    "result=loaded_model.predict([[13, 25.0, 0, 1, 0]])"
   ]
  },
  {
   "cell_type": "code",
   "execution_count": 3,
   "id": "a06169ed-7138-4da7-acbc-296c76964e6e",
   "metadata": {},
   "outputs": [
    {
     "data": {
      "text/plain": [
       "array([16631.23], dtype=float32)"
      ]
     },
     "execution_count": 3,
     "metadata": {},
     "output_type": "execute_result"
    }
   ],
   "source": [
    "result"
   ]
  },
  {
   "cell_type": "code",
   "execution_count": null,
   "id": "29120e7a-c404-4154-808b-9c656b7c7b9f",
   "metadata": {},
   "outputs": [],
   "source": []
  }
 ],
 "metadata": {
  "kernelspec": {
   "display_name": "Python [conda env:base] *",
   "language": "python",
   "name": "conda-base-py"
  },
  "language_info": {
   "codemirror_mode": {
    "name": "ipython",
    "version": 3
   },
   "file_extension": ".py",
   "mimetype": "text/x-python",
   "name": "python",
   "nbconvert_exporter": "python",
   "pygments_lexer": "ipython3",
   "version": "3.13.5"
  }
 },
 "nbformat": 4,
 "nbformat_minor": 5
}
